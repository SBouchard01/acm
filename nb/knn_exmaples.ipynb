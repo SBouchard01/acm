{
 "cells": [
  {
   "cell_type": "code",
   "execution_count": 1,
   "id": "f1fa3556-7670-410a-a690-8407d8a75463",
   "metadata": {
    "tags": []
   },
   "outputs": [
    {
     "ename": "ModuleNotFoundError",
     "evalue": "No module named 'PolyBin3D'",
     "output_type": "error",
     "traceback": [
      "\u001b[0;31m---------------------------------------------------------------------------\u001b[0m",
      "\u001b[0;31mModuleNotFoundError\u001b[0m                       Traceback (most recent call last)",
      "Cell \u001b[0;32mIn[1], line 2\u001b[0m\n\u001b[1;32m      1\u001b[0m \u001b[38;5;28;01mfrom\u001b[39;00m \u001b[38;5;21;01mpathlib\u001b[39;00m \u001b[38;5;28;01mimport\u001b[39;00m Path\n\u001b[0;32m----> 2\u001b[0m \u001b[38;5;28;01mfrom\u001b[39;00m \u001b[38;5;21;01macm\u001b[39;00m\u001b[38;5;21;01m.\u001b[39;00m\u001b[38;5;21;01mestimators\u001b[39;00m\u001b[38;5;21;01m.\u001b[39;00m\u001b[38;5;21;01mgalaxy_clustering\u001b[39;00m \u001b[38;5;28;01mimport\u001b[39;00m KthNearestNeighbor\n\u001b[1;32m      3\u001b[0m \u001b[38;5;28;01mfrom\u001b[39;00m \u001b[38;5;21;01macm\u001b[39;00m\u001b[38;5;21;01m.\u001b[39;00m\u001b[38;5;21;01mutils\u001b[39;00m \u001b[38;5;28;01mimport\u001b[39;00m setup_logging\n\u001b[1;32m      4\u001b[0m \u001b[38;5;28;01mfrom\u001b[39;00m \u001b[38;5;21;01mpypower\u001b[39;00m \u001b[38;5;28;01mimport\u001b[39;00m mpi\n",
      "File \u001b[0;32m/global/u1/s/sihany/acm/acm/estimators/galaxy_clustering/__init__.py:1\u001b[0m\n\u001b[0;32m----> 1\u001b[0m \u001b[38;5;28;01mfrom\u001b[39;00m \u001b[38;5;21;01m.\u001b[39;00m\u001b[38;5;21;01mpydive\u001b[39;00m \u001b[38;5;28;01mimport\u001b[39;00m get_void_catalog_full, get_void_catalog_cgal, DTVoid\n\u001b[1;32m      2\u001b[0m \u001b[38;5;28;01mfrom\u001b[39;00m \u001b[38;5;21;01m.\u001b[39;00m\u001b[38;5;21;01mwst\u001b[39;00m \u001b[38;5;28;01mimport\u001b[39;00m WaveletScatteringTransform\n\u001b[1;32m      3\u001b[0m \u001b[38;5;28;01mfrom\u001b[39;00m \u001b[38;5;21;01m.\u001b[39;00m\u001b[38;5;21;01mvoxel_voids\u001b[39;00m \u001b[38;5;28;01mimport\u001b[39;00m VoxelVoids\n",
      "File \u001b[0;32m/global/u1/s/sihany/acm/acm/estimators/galaxy_clustering/pydive.py:1\u001b[0m\n\u001b[0;32m----> 1\u001b[0m \u001b[38;5;28;01mfrom\u001b[39;00m \u001b[38;5;21;01m.\u001b[39;00m\u001b[38;5;21;01mbase\u001b[39;00m \u001b[38;5;28;01mimport\u001b[39;00m BaseEstimator\n\u001b[1;32m      2\u001b[0m \u001b[38;5;28;01mfrom\u001b[39;00m \u001b[38;5;21;01m.\u001b[39;00m\u001b[38;5;21;01msrc\u001b[39;00m\u001b[38;5;21;01m.\u001b[39;00m\u001b[38;5;21;01mpydive\u001b[39;00m \u001b[38;5;28;01mimport\u001b[39;00m get_void_catalog_full, get_void_catalog_cgal\n\u001b[1;32m      3\u001b[0m \u001b[38;5;28;01mimport\u001b[39;00m \u001b[38;5;21;01mlogging\u001b[39;00m\n",
      "File \u001b[0;32m/global/u1/s/sihany/acm/acm/estimators/galaxy_clustering/base.py:3\u001b[0m\n\u001b[1;32m      1\u001b[0m \u001b[38;5;28;01mfrom\u001b[39;00m \u001b[38;5;21;01mpyrecon\u001b[39;00m \u001b[38;5;28;01mimport\u001b[39;00m RealMesh\n\u001b[1;32m      2\u001b[0m \u001b[38;5;28;01mfrom\u001b[39;00m \u001b[38;5;21;01mpypower\u001b[39;00m \u001b[38;5;28;01mimport\u001b[39;00m CatalogMesh\n\u001b[0;32m----> 3\u001b[0m \u001b[38;5;28;01mfrom\u001b[39;00m \u001b[38;5;21;01mPolyBin3D\u001b[39;00m \u001b[38;5;28;01mimport\u001b[39;00m PolyBin3D\n\u001b[1;32m      4\u001b[0m \u001b[38;5;28;01mimport\u001b[39;00m \u001b[38;5;21;01mnumpy\u001b[39;00m \u001b[38;5;28;01mas\u001b[39;00m \u001b[38;5;21;01mnp\u001b[39;00m\n\u001b[1;32m      5\u001b[0m \u001b[38;5;28;01mimport\u001b[39;00m \u001b[38;5;21;01mtime\u001b[39;00m\n",
      "\u001b[0;31mModuleNotFoundError\u001b[0m: No module named 'PolyBin3D'"
     ]
    }
   ],
   "source": [
    "from pathlib import Path\n",
    "from acm.estimators.galaxy_clustering import KthNearestNeighbor\n",
    "from acm.utils import setup_logging\n",
    "from pypower import mpi\n",
    "import numpy as np\n",
    "import matplotlib.pyplot as plt\n",
    "%matplotlib inline\n",
    "%config InlineBackend.figure_format='retina'\n",
    "\n",
    "setup_logging()\n",
    "\n",
    "# read some random galaxy catalog\n",
    "data_dir = '/pscratch/sd/e/epaillas/emc/hods/z0.5/yuan23_prior2/c000_ph000/'\n",
    "data_fn = Path(data_dir) / 'hod3177.npy'\n",
    "data = np.load(data_fn, allow_pickle=True).item()\n",
    "boxsize = 2000.0\n",
    "x = data['x']\n",
    "y = data['y']\n",
    "z_rsd = data['z_rsd']\n",
    "data_positions = np.c_[x, y, z_rsd]"
   ]
  },
  {
   "cell_type": "code",
   "execution_count": null,
   "id": "cd5ffbaa-9a89-4643-8ac0-7cd77c75ebb1",
   "metadata": {},
   "outputs": [],
   "source": []
  }
 ],
 "metadata": {
  "kernelspec": {
   "display_name": "cosmodesi-main",
   "language": "python",
   "name": "cosmodesi-main"
  },
  "language_info": {
   "codemirror_mode": {
    "name": "ipython",
    "version": 3
   },
   "file_extension": ".py",
   "mimetype": "text/x-python",
   "name": "python",
   "nbconvert_exporter": "python",
   "pygments_lexer": "ipython3",
   "version": "3.10.13"
  }
 },
 "nbformat": 4,
 "nbformat_minor": 5
}
