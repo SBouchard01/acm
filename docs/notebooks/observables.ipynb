{
 "cells": [
  {
   "cell_type": "markdown",
   "metadata": {},
   "source": [
    "# Observables classes\n",
    "\n",
    "## `BaseObservable` inherited class"
   ]
  },
  {
   "cell_type": "code",
   "execution_count": null,
   "metadata": {},
   "outputs": [],
   "source": [
    "from acm.observables.base import BaseObservable\n",
    "from acm.data.paths import emc_paths # Default path for example\n",
    "from acm.data.default import summary_coords_dict # default summary coordinates dictionary\n",
    "\n",
    "class TPCF(BaseObservable):\n",
    "    \"\"\"\n",
    "    Defines the TPCF observable\n",
    "    \"\"\"\n",
    "    \n",
    "    def __init__(self, select_filters = None, slice_filters = None):\n",
    "        super().__init__(select_filters, slice_filters)\n",
    "        \n",
    "    @property\n",
    "    def stat_name(self):\n",
    "        return \"tpcf\"\n",
    "    \n",
    "    @property\n",
    "    def paths(self):\n",
    "        return emc_paths\n",
    "    \n",
    "    @property\n",
    "    def summary_coords_dict(self):\n",
    "        return summary_coords_dict"
   ]
  },
  {
   "cell_type": "code",
   "execution_count": null,
   "metadata": {},
   "outputs": [],
   "source": [
    "select_filters = {'cosmo_idx': [0, 1], 'multipoles': [0]}\n",
    "slice_filters = {'bin_values': [0, 150]}\n",
    "\n",
    "tpcf = TPCF(\n",
    "    select_filters=select_filters,\n",
    "    slice_filters=slice_filters\n",
    ")\n",
    "\n",
    "# From the lhc file\n",
    "lhc_x = tpcf.lhc_x\n",
    "lhc_y = tpcf.lhc_y\n",
    "bin_values = tpcf.bin_values\n",
    "covariance_matrix = tpcf.get_covariance_matrix(volume_factor=64)\n",
    "lhc_x_names = tpcf.lhc_x_names\n",
    "\n",
    "# From the model\n",
    "model = tpcf.model\n",
    "emulator_error = tpcf.emulator_error\n",
    "emulator_covariance = tpcf.get_emulator_covariance_matrix(prefactor=1)\n",
    "\n",
    "# get a prediction\n",
    "prediction = tpcf.get_model_prediction(lhc_x[0], model)\n",
    "\n",
    "print('lhc_y shape:', lhc_y.shape)\n",
    "print('prediction shape:', prediction.shape)"
   ]
  },
  {
   "cell_type": "code",
   "execution_count": null,
   "metadata": {},
   "outputs": [],
   "source": [
    "import matplotlib.pyplot as plt\n",
    "import numpy as np\n",
    "\n",
    "s = bin_values\n",
    "truth = lhc_y[0]\n",
    "pred = prediction\n",
    "error = np.sqrt(np.diag(covariance_matrix))\n",
    "\n",
    "plt.plot(s, truth, label='Truth')\n",
    "plt.errorbar(s, pred, yerr=error, label='Prediction')\n",
    "plt.legend()"
   ]
  },
  {
   "cell_type": "markdown",
   "metadata": {},
   "source": [
    "## `CombinedObservable` class"
   ]
  },
  {
   "cell_type": "code",
   "execution_count": null,
   "metadata": {},
   "outputs": [],
   "source": [
    "from acm.observables.combined import BaseCombinedObservable as CombinedObservable\n",
    "\n",
    "combined = CombinedObservable([\n",
    "    TPCF(\n",
    "        select_filters={'cosmo_idx': [0, 1], 'multipoles': [0]},\n",
    "        slice_filters={'bin_values': [0, 150]}\n",
    "    ),\n",
    "])"
   ]
  }
 ],
 "metadata": {
  "language_info": {
   "name": "python"
  }
 },
 "nbformat": 4,
 "nbformat_minor": 2
}
